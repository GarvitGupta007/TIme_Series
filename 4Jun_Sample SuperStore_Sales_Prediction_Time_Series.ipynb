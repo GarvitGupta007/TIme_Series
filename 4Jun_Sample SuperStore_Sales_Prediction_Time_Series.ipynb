{
 "cells": [
  {
   "cell_type": "code",
   "execution_count": 8,
   "id": "ca187a99",
   "metadata": {},
   "outputs": [],
   "source": [
    "from sklearn.metrics import mean_squared_error,mean_absolute_error,mean_absolute_percentage_error\n",
    "\n",
    "from statsmodels.tsa.seasonal import seasonal_decompose\n",
    "from statsmodels.tsa.stattools import adfuller\n",
    "\n",
    "from statsmodels.graphics.tsaplots import plot_acf,plot_pacf\n",
    "from statsmodels.tsa.arima.model import ARIMA\n",
    "\n",
    "from statsmodels.tsa.holtwinters import ExponentialSmoothing\n",
    "from statsmodels.tsa.statespace.sarimax import SARIMAX\n",
    "\n",
    "from pmdarima import auto_arima\n",
    "\n",
    "import pandas as pd\n",
    "import numpy as np\n",
    "import matplotlib.pyplot as plt\n",
    "import seaborn as sns"
   ]
  },
  {
   "cell_type": "code",
   "execution_count": 7,
   "id": "1ac85295",
   "metadata": {},
   "outputs": [],
   "source": [
    "from sklearn.metrics import mean_squared_error\n",
    "\n",
    "from statsmodels.tsa.seasonal import seasonal_decompose\n",
    "from statsmodels.tsa.stattools import adfuller\n",
    "\n",
    "from statsmodels.graphics.tsaplots import plot_acf,plot_pacf\n",
    "from statsmodels.tsa.arima.model import ARIMA"
   ]
  },
  {
   "cell_type": "code",
   "execution_count": 93,
   "id": "64ec07ef",
   "metadata": {},
   "outputs": [],
   "source": [
    "def adf_test(data):\n",
    "    res = adfuller(data)\n",
    "    print('test_stat',res[0])\n",
    "    print('p_val',res[1])\n",
    "    if res[1]>0.05:\n",
    "        print('Ho accepted : Data is non-stationary')\n",
    "    else:\n",
    "        print('H1 accepted : Data is stationary')\n",
    "\n",
    "\n",
    "def eval_model(test,pred,model_name):\n",
    "    mae = mean_absolute_error(test,pred)\n",
    "    mse = mean_squared_error(test,pred)\n",
    "    rmse = np.sqrt(mean_squared_error(test,pred))\n",
    "    mape = mean_absolute_percentage_error(test,pred)\n",
    "    res = pd.DataFrame({'MAE':mae,'MSE':mse,'RMSE':rmse,'MAPE':mape},\n",
    "                       index=[model_name])\n",
    "    return res\n",
    "\n",
    "def plot_res(train,test,fcast):  # fcast = forecast\n",
    "    plt.plot(train,label='Train',color='blue')\n",
    "    plt.plot(test,label='Test',color='orange')\n",
    "    plt.plot(fcast,label='fcast',color='green')\n",
    "    plt.legend()\n",
    "    plt.show()\n",
    "    \n",
    "\n",
    "def arima_fun(p,d,q,model_name):\n",
    "    model = ARIMA(np.log(train), order=(p,d,q))\n",
    "    arima_fit = model.fit()\n",
    "    fcast_arima = np.exp(arima_fit.forecast(test.shape[0]))\n",
    "    print(fcast_arima)\n",
    "    plot_res(train,test,fcast_arima)\n",
    "    model_res = eval_model(test,fcast_arima,model_name)\n",
    "    return model_res\n",
    "\n",
    "def decompose_data(data):\n",
    "    decom = seasonal_decompose(data, model='additive')\n",
    "    original = decom.observed\n",
    "    trend = decom.trend\n",
    "    seasonal = decom.seasonal\n",
    "    irr = decom.resid\n",
    "\n",
    "    plt.plot(original,color='blue',label='Original')\n",
    "    plt.plot(trend,color='red',label='Trend')\n",
    "    plt.plot(seasonal,color='black',label='Seasonality')\n",
    "    # plt.plot(irr,color='maroon',label='Irregular')\n",
    "\n",
    "    plt.legend()\n",
    "    plt.show()"
   ]
  },
  {
   "cell_type": "code",
   "execution_count": 97,
   "id": "a9bea076",
   "metadata": {},
   "outputs": [
    {
     "data": {
      "text/html": [
       "<div>\n",
       "<style scoped>\n",
       "    .dataframe tbody tr th:only-of-type {\n",
       "        vertical-align: middle;\n",
       "    }\n",
       "\n",
       "    .dataframe tbody tr th {\n",
       "        vertical-align: top;\n",
       "    }\n",
       "\n",
       "    .dataframe thead th {\n",
       "        text-align: right;\n",
       "    }\n",
       "</style>\n",
       "<table border=\"1\" class=\"dataframe\">\n",
       "  <thead>\n",
       "    <tr style=\"text-align: right;\">\n",
       "      <th></th>\n",
       "      <th>Row ID</th>\n",
       "      <th>Order ID</th>\n",
       "      <th>Order Date</th>\n",
       "      <th>Ship Date</th>\n",
       "      <th>Ship Mode</th>\n",
       "      <th>Customer ID</th>\n",
       "      <th>Customer Name</th>\n",
       "      <th>Segment</th>\n",
       "      <th>Country</th>\n",
       "      <th>City</th>\n",
       "      <th>...</th>\n",
       "      <th>Postal Code</th>\n",
       "      <th>Region</th>\n",
       "      <th>Product ID</th>\n",
       "      <th>Category</th>\n",
       "      <th>Sub-Category</th>\n",
       "      <th>Product Name</th>\n",
       "      <th>Sales</th>\n",
       "      <th>Quantity</th>\n",
       "      <th>Discount</th>\n",
       "      <th>Profit</th>\n",
       "    </tr>\n",
       "  </thead>\n",
       "  <tbody>\n",
       "    <tr>\n",
       "      <th>0</th>\n",
       "      <td>1</td>\n",
       "      <td>CA-2016-152156</td>\n",
       "      <td>11/8/2016</td>\n",
       "      <td>11/11/2016</td>\n",
       "      <td>Second Class</td>\n",
       "      <td>CG-12520</td>\n",
       "      <td>Claire Gute</td>\n",
       "      <td>Consumer</td>\n",
       "      <td>United States</td>\n",
       "      <td>Henderson</td>\n",
       "      <td>...</td>\n",
       "      <td>42420</td>\n",
       "      <td>South</td>\n",
       "      <td>FUR-BO-10001798</td>\n",
       "      <td>Furniture</td>\n",
       "      <td>Bookcases</td>\n",
       "      <td>Bush Somerset Collection Bookcase</td>\n",
       "      <td>261.9600</td>\n",
       "      <td>2</td>\n",
       "      <td>0.00</td>\n",
       "      <td>41.9136</td>\n",
       "    </tr>\n",
       "    <tr>\n",
       "      <th>1</th>\n",
       "      <td>2</td>\n",
       "      <td>CA-2016-152156</td>\n",
       "      <td>11/8/2016</td>\n",
       "      <td>11/11/2016</td>\n",
       "      <td>Second Class</td>\n",
       "      <td>CG-12520</td>\n",
       "      <td>Claire Gute</td>\n",
       "      <td>Consumer</td>\n",
       "      <td>United States</td>\n",
       "      <td>Henderson</td>\n",
       "      <td>...</td>\n",
       "      <td>42420</td>\n",
       "      <td>South</td>\n",
       "      <td>FUR-CH-10000454</td>\n",
       "      <td>Furniture</td>\n",
       "      <td>Chairs</td>\n",
       "      <td>Hon Deluxe Fabric Upholstered Stacking Chairs,...</td>\n",
       "      <td>731.9400</td>\n",
       "      <td>3</td>\n",
       "      <td>0.00</td>\n",
       "      <td>219.5820</td>\n",
       "    </tr>\n",
       "    <tr>\n",
       "      <th>2</th>\n",
       "      <td>4</td>\n",
       "      <td>US-2015-108966</td>\n",
       "      <td>10/11/2015</td>\n",
       "      <td>10/18/2015</td>\n",
       "      <td>Standard Class</td>\n",
       "      <td>SO-20335</td>\n",
       "      <td>Sean O'Donnell</td>\n",
       "      <td>Consumer</td>\n",
       "      <td>United States</td>\n",
       "      <td>Fort Lauderdale</td>\n",
       "      <td>...</td>\n",
       "      <td>33311</td>\n",
       "      <td>South</td>\n",
       "      <td>FUR-TA-10000577</td>\n",
       "      <td>Furniture</td>\n",
       "      <td>Tables</td>\n",
       "      <td>Bretford CR4500 Series Slim Rectangular Table</td>\n",
       "      <td>957.5775</td>\n",
       "      <td>5</td>\n",
       "      <td>0.45</td>\n",
       "      <td>-383.0310</td>\n",
       "    </tr>\n",
       "    <tr>\n",
       "      <th>3</th>\n",
       "      <td>6</td>\n",
       "      <td>CA-2014-115812</td>\n",
       "      <td>6/9/2014</td>\n",
       "      <td>6/14/2014</td>\n",
       "      <td>Standard Class</td>\n",
       "      <td>BH-11710</td>\n",
       "      <td>Brosina Hoffman</td>\n",
       "      <td>Consumer</td>\n",
       "      <td>United States</td>\n",
       "      <td>Los Angeles</td>\n",
       "      <td>...</td>\n",
       "      <td>90032</td>\n",
       "      <td>West</td>\n",
       "      <td>FUR-FU-10001487</td>\n",
       "      <td>Furniture</td>\n",
       "      <td>Furnishings</td>\n",
       "      <td>Eldon Expressions Wood and Plastic Desk Access...</td>\n",
       "      <td>48.8600</td>\n",
       "      <td>7</td>\n",
       "      <td>0.00</td>\n",
       "      <td>14.1694</td>\n",
       "    </tr>\n",
       "    <tr>\n",
       "      <th>4</th>\n",
       "      <td>11</td>\n",
       "      <td>CA-2014-115812</td>\n",
       "      <td>6/9/2014</td>\n",
       "      <td>6/14/2014</td>\n",
       "      <td>Standard Class</td>\n",
       "      <td>BH-11710</td>\n",
       "      <td>Brosina Hoffman</td>\n",
       "      <td>Consumer</td>\n",
       "      <td>United States</td>\n",
       "      <td>Los Angeles</td>\n",
       "      <td>...</td>\n",
       "      <td>90032</td>\n",
       "      <td>West</td>\n",
       "      <td>FUR-TA-10001539</td>\n",
       "      <td>Furniture</td>\n",
       "      <td>Tables</td>\n",
       "      <td>Chromcraft Rectangular Conference Tables</td>\n",
       "      <td>1706.1840</td>\n",
       "      <td>9</td>\n",
       "      <td>0.20</td>\n",
       "      <td>85.3092</td>\n",
       "    </tr>\n",
       "  </tbody>\n",
       "</table>\n",
       "<p>5 rows × 21 columns</p>\n",
       "</div>"
      ],
      "text/plain": [
       "   Row ID        Order ID  Order Date   Ship Date       Ship Mode Customer ID  \\\n",
       "0       1  CA-2016-152156   11/8/2016  11/11/2016    Second Class    CG-12520   \n",
       "1       2  CA-2016-152156   11/8/2016  11/11/2016    Second Class    CG-12520   \n",
       "2       4  US-2015-108966  10/11/2015  10/18/2015  Standard Class    SO-20335   \n",
       "3       6  CA-2014-115812    6/9/2014   6/14/2014  Standard Class    BH-11710   \n",
       "4      11  CA-2014-115812    6/9/2014   6/14/2014  Standard Class    BH-11710   \n",
       "\n",
       "     Customer Name   Segment        Country             City  ... Postal Code  \\\n",
       "0      Claire Gute  Consumer  United States        Henderson  ...       42420   \n",
       "1      Claire Gute  Consumer  United States        Henderson  ...       42420   \n",
       "2   Sean O'Donnell  Consumer  United States  Fort Lauderdale  ...       33311   \n",
       "3  Brosina Hoffman  Consumer  United States      Los Angeles  ...       90032   \n",
       "4  Brosina Hoffman  Consumer  United States      Los Angeles  ...       90032   \n",
       "\n",
       "   Region       Product ID   Category Sub-Category  \\\n",
       "0   South  FUR-BO-10001798  Furniture    Bookcases   \n",
       "1   South  FUR-CH-10000454  Furniture       Chairs   \n",
       "2   South  FUR-TA-10000577  Furniture       Tables   \n",
       "3    West  FUR-FU-10001487  Furniture  Furnishings   \n",
       "4    West  FUR-TA-10001539  Furniture       Tables   \n",
       "\n",
       "                                        Product Name      Sales  Quantity  \\\n",
       "0                  Bush Somerset Collection Bookcase   261.9600         2   \n",
       "1  Hon Deluxe Fabric Upholstered Stacking Chairs,...   731.9400         3   \n",
       "2      Bretford CR4500 Series Slim Rectangular Table   957.5775         5   \n",
       "3  Eldon Expressions Wood and Plastic Desk Access...    48.8600         7   \n",
       "4           Chromcraft Rectangular Conference Tables  1706.1840         9   \n",
       "\n",
       "   Discount    Profit  \n",
       "0      0.00   41.9136  \n",
       "1      0.00  219.5820  \n",
       "2      0.45 -383.0310  \n",
       "3      0.00   14.1694  \n",
       "4      0.20   85.3092  \n",
       "\n",
       "[5 rows x 21 columns]"
      ]
     },
     "execution_count": 97,
     "metadata": {},
     "output_type": "execute_result"
    }
   ],
   "source": [
    "df = pd.read_csv('Super_Store_data.csv',encoding='latin1')\n",
    "df.head()"
   ]
  },
  {
   "cell_type": "code",
   "execution_count": 98,
   "id": "502320ce",
   "metadata": {},
   "outputs": [
    {
     "data": {
      "text/html": [
       "<div>\n",
       "<style scoped>\n",
       "    .dataframe tbody tr th:only-of-type {\n",
       "        vertical-align: middle;\n",
       "    }\n",
       "\n",
       "    .dataframe tbody tr th {\n",
       "        vertical-align: top;\n",
       "    }\n",
       "\n",
       "    .dataframe thead th {\n",
       "        text-align: right;\n",
       "    }\n",
       "</style>\n",
       "<table border=\"1\" class=\"dataframe\">\n",
       "  <thead>\n",
       "    <tr style=\"text-align: right;\">\n",
       "      <th></th>\n",
       "      <th>Order Date</th>\n",
       "      <th>Sales</th>\n",
       "    </tr>\n",
       "  </thead>\n",
       "  <tbody>\n",
       "    <tr>\n",
       "      <th>0</th>\n",
       "      <td>11/8/2016</td>\n",
       "      <td>261.9600</td>\n",
       "    </tr>\n",
       "    <tr>\n",
       "      <th>1</th>\n",
       "      <td>11/8/2016</td>\n",
       "      <td>731.9400</td>\n",
       "    </tr>\n",
       "    <tr>\n",
       "      <th>2</th>\n",
       "      <td>10/11/2015</td>\n",
       "      <td>957.5775</td>\n",
       "    </tr>\n",
       "    <tr>\n",
       "      <th>3</th>\n",
       "      <td>6/9/2014</td>\n",
       "      <td>48.8600</td>\n",
       "    </tr>\n",
       "    <tr>\n",
       "      <th>4</th>\n",
       "      <td>6/9/2014</td>\n",
       "      <td>1706.1840</td>\n",
       "    </tr>\n",
       "  </tbody>\n",
       "</table>\n",
       "</div>"
      ],
      "text/plain": [
       "   Order Date      Sales\n",
       "0   11/8/2016   261.9600\n",
       "1   11/8/2016   731.9400\n",
       "2  10/11/2015   957.5775\n",
       "3    6/9/2014    48.8600\n",
       "4    6/9/2014  1706.1840"
      ]
     },
     "execution_count": 98,
     "metadata": {},
     "output_type": "execute_result"
    }
   ],
   "source": [
    "df = df[['Order Date','Sales']]\n",
    "df.head()"
   ]
  },
  {
   "cell_type": "code",
   "execution_count": 99,
   "id": "249b1eec",
   "metadata": {},
   "outputs": [
    {
     "data": {
      "text/plain": [
       "(2121, 2)"
      ]
     },
     "execution_count": 99,
     "metadata": {},
     "output_type": "execute_result"
    }
   ],
   "source": [
    "df.shape"
   ]
  },
  {
   "cell_type": "code",
   "execution_count": 100,
   "id": "0a834b4a",
   "metadata": {},
   "outputs": [
    {
     "data": {
      "text/plain": [
       "Order Date    0\n",
       "Sales         0\n",
       "dtype: int64"
      ]
     },
     "execution_count": 100,
     "metadata": {},
     "output_type": "execute_result"
    }
   ],
   "source": [
    "df.isnull().sum()"
   ]
  },
  {
   "cell_type": "code",
   "execution_count": 101,
   "id": "73f46c68",
   "metadata": {},
   "outputs": [
    {
     "data": {
      "text/plain": [
       "Order Date     object\n",
       "Sales         float64\n",
       "dtype: object"
      ]
     },
     "execution_count": 101,
     "metadata": {},
     "output_type": "execute_result"
    }
   ],
   "source": [
    "df.dtypes"
   ]
  },
  {
   "cell_type": "code",
   "execution_count": 102,
   "id": "e92f7b82",
   "metadata": {},
   "outputs": [
    {
     "data": {
      "text/plain": [
       "9/5/2016      10\n",
       "12/1/2016      9\n",
       "11/19/2017     9\n",
       "10/30/2017     9\n",
       "12/25/2016     9\n",
       "              ..\n",
       "10/30/2015     1\n",
       "7/9/2015       1\n",
       "9/9/2016       1\n",
       "6/22/2015      1\n",
       "1/21/2014      1\n",
       "Name: Order Date, Length: 889, dtype: int64"
      ]
     },
     "execution_count": 102,
     "metadata": {},
     "output_type": "execute_result"
    }
   ],
   "source": [
    "df['Order Date'].value_counts()"
   ]
  },
  {
   "cell_type": "code",
   "execution_count": 103,
   "id": "edbebe6c",
   "metadata": {},
   "outputs": [
    {
     "data": {
      "text/html": [
       "<div>\n",
       "<style scoped>\n",
       "    .dataframe tbody tr th:only-of-type {\n",
       "        vertical-align: middle;\n",
       "    }\n",
       "\n",
       "    .dataframe tbody tr th {\n",
       "        vertical-align: top;\n",
       "    }\n",
       "\n",
       "    .dataframe thead th {\n",
       "        text-align: right;\n",
       "    }\n",
       "</style>\n",
       "<table border=\"1\" class=\"dataframe\">\n",
       "  <thead>\n",
       "    <tr style=\"text-align: right;\">\n",
       "      <th></th>\n",
       "      <th>Order Date</th>\n",
       "      <th>Sales</th>\n",
       "    </tr>\n",
       "  </thead>\n",
       "  <tbody>\n",
       "    <tr>\n",
       "      <th>0</th>\n",
       "      <td>1/1/2017</td>\n",
       "      <td>975.490</td>\n",
       "    </tr>\n",
       "    <tr>\n",
       "      <th>1</th>\n",
       "      <td>1/10/2014</td>\n",
       "      <td>51.940</td>\n",
       "    </tr>\n",
       "    <tr>\n",
       "      <th>2</th>\n",
       "      <td>1/10/2015</td>\n",
       "      <td>1018.104</td>\n",
       "    </tr>\n",
       "    <tr>\n",
       "      <th>3</th>\n",
       "      <td>1/10/2016</td>\n",
       "      <td>104.770</td>\n",
       "    </tr>\n",
       "    <tr>\n",
       "      <th>4</th>\n",
       "      <td>1/11/2014</td>\n",
       "      <td>9.940</td>\n",
       "    </tr>\n",
       "  </tbody>\n",
       "</table>\n",
       "</div>"
      ],
      "text/plain": [
       "  Order Date     Sales\n",
       "0   1/1/2017   975.490\n",
       "1  1/10/2014    51.940\n",
       "2  1/10/2015  1018.104\n",
       "3  1/10/2016   104.770\n",
       "4  1/11/2014     9.940"
      ]
     },
     "execution_count": 103,
     "metadata": {},
     "output_type": "execute_result"
    }
   ],
   "source": [
    "df = df.groupby('Order Date')['Sales'].sum().reset_index()\n",
    "df.head()"
   ]
  },
  {
   "cell_type": "code",
   "execution_count": 104,
   "id": "21e1940a",
   "metadata": {},
   "outputs": [
    {
     "data": {
      "text/plain": [
       "1/1/2017      1\n",
       "6/16/2014     1\n",
       "6/11/2017     1\n",
       "6/12/2015     1\n",
       "6/12/2016     1\n",
       "             ..\n",
       "12/28/2017    1\n",
       "12/29/2014    1\n",
       "12/29/2016    1\n",
       "12/29/2017    1\n",
       "9/9/2017      1\n",
       "Name: Order Date, Length: 889, dtype: int64"
      ]
     },
     "execution_count": 104,
     "metadata": {},
     "output_type": "execute_result"
    }
   ],
   "source": [
    "df['Order Date'].value_counts()"
   ]
  },
  {
   "cell_type": "code",
   "execution_count": 105,
   "id": "2ca65313",
   "metadata": {},
   "outputs": [
    {
     "data": {
      "text/plain": [
       "Order Date     object\n",
       "Sales         float64\n",
       "dtype: object"
      ]
     },
     "execution_count": 105,
     "metadata": {},
     "output_type": "execute_result"
    }
   ],
   "source": [
    "df.dtypes"
   ]
  },
  {
   "cell_type": "code",
   "execution_count": 106,
   "id": "18c868a3",
   "metadata": {},
   "outputs": [],
   "source": [
    "df['Order Date'] = pd.to_datetime(df['Order Date'])"
   ]
  },
  {
   "cell_type": "code",
   "execution_count": 107,
   "id": "c0094093",
   "metadata": {},
   "outputs": [
    {
     "data": {
      "text/html": [
       "<div>\n",
       "<style scoped>\n",
       "    .dataframe tbody tr th:only-of-type {\n",
       "        vertical-align: middle;\n",
       "    }\n",
       "\n",
       "    .dataframe tbody tr th {\n",
       "        vertical-align: top;\n",
       "    }\n",
       "\n",
       "    .dataframe thead th {\n",
       "        text-align: right;\n",
       "    }\n",
       "</style>\n",
       "<table border=\"1\" class=\"dataframe\">\n",
       "  <thead>\n",
       "    <tr style=\"text-align: right;\">\n",
       "      <th></th>\n",
       "      <th>Order Date</th>\n",
       "      <th>Sales</th>\n",
       "    </tr>\n",
       "  </thead>\n",
       "  <tbody>\n",
       "    <tr>\n",
       "      <th>49</th>\n",
       "      <td>2014-01-06</td>\n",
       "      <td>2573.820</td>\n",
       "    </tr>\n",
       "    <tr>\n",
       "      <th>50</th>\n",
       "      <td>2014-01-07</td>\n",
       "      <td>76.728</td>\n",
       "    </tr>\n",
       "    <tr>\n",
       "      <th>1</th>\n",
       "      <td>2014-01-10</td>\n",
       "      <td>51.940</td>\n",
       "    </tr>\n",
       "    <tr>\n",
       "      <th>4</th>\n",
       "      <td>2014-01-11</td>\n",
       "      <td>9.940</td>\n",
       "    </tr>\n",
       "    <tr>\n",
       "      <th>7</th>\n",
       "      <td>2014-01-13</td>\n",
       "      <td>879.939</td>\n",
       "    </tr>\n",
       "  </tbody>\n",
       "</table>\n",
       "</div>"
      ],
      "text/plain": [
       "   Order Date     Sales\n",
       "49 2014-01-06  2573.820\n",
       "50 2014-01-07    76.728\n",
       "1  2014-01-10    51.940\n",
       "4  2014-01-11     9.940\n",
       "7  2014-01-13   879.939"
      ]
     },
     "execution_count": 107,
     "metadata": {},
     "output_type": "execute_result"
    }
   ],
   "source": [
    "df = df.sort_values('Order Date',ascending=True)\n",
    "df.head()"
   ]
  },
  {
   "cell_type": "code",
   "execution_count": null,
   "id": "ae00aaff",
   "metadata": {},
   "outputs": [],
   "source": []
  },
  {
   "cell_type": "code",
   "execution_count": 108,
   "id": "c295a384",
   "metadata": {},
   "outputs": [],
   "source": [
    "# df1 = df.groupby('Order Date')['Sales'].mean().reset_index()\n",
    "# df1.head()"
   ]
  },
  {
   "cell_type": "code",
   "execution_count": 109,
   "id": "5319d41f",
   "metadata": {},
   "outputs": [],
   "source": [
    "# df1['Order Date'].value_counts()"
   ]
  },
  {
   "cell_type": "code",
   "execution_count": 110,
   "id": "a428ceed",
   "metadata": {},
   "outputs": [
    {
     "data": {
      "text/plain": [
       "49    2014-01-06\n",
       "50    2014-01-07\n",
       "1     2014-01-10\n",
       "4     2014-01-11\n",
       "7     2014-01-13\n",
       "10    2014-01-14\n",
       "14    2014-01-16\n",
       "18    2014-01-19\n",
       "24    2014-01-20\n",
       "26    2014-01-21\n",
       "33    2014-01-26\n",
       "35    2014-01-27\n",
       "45    2014-01-31\n",
       "358   2014-02-08\n",
       "328   2014-02-11\n",
       "330   2014-02-12\n",
       "336   2014-02-18\n",
       "342   2014-02-20\n",
       "362   2014-03-01\n",
       "417   2014-03-03\n",
       "432   2014-03-07\n",
       "367   2014-03-11\n",
       "375   2014-03-14\n",
       "377   2014-03-15\n",
       "381   2014-03-17\n",
       "383   2014-03-18\n",
       "386   2014-03-19\n",
       "394   2014-03-21\n",
       "397   2014-03-22\n",
       "402   2014-03-24\n",
       "Name: Order Date, dtype: datetime64[ns]"
      ]
     },
     "execution_count": 110,
     "metadata": {},
     "output_type": "execute_result"
    }
   ],
   "source": [
    "df['Order Date'].head(30)"
   ]
  },
  {
   "cell_type": "code",
   "execution_count": 111,
   "id": "63e8b164",
   "metadata": {},
   "outputs": [
    {
     "data": {
      "text/html": [
       "<div>\n",
       "<style scoped>\n",
       "    .dataframe tbody tr th:only-of-type {\n",
       "        vertical-align: middle;\n",
       "    }\n",
       "\n",
       "    .dataframe tbody tr th {\n",
       "        vertical-align: top;\n",
       "    }\n",
       "\n",
       "    .dataframe thead th {\n",
       "        text-align: right;\n",
       "    }\n",
       "</style>\n",
       "<table border=\"1\" class=\"dataframe\">\n",
       "  <thead>\n",
       "    <tr style=\"text-align: right;\">\n",
       "      <th></th>\n",
       "      <th>Sales</th>\n",
       "    </tr>\n",
       "    <tr>\n",
       "      <th>Order Date</th>\n",
       "      <th></th>\n",
       "    </tr>\n",
       "  </thead>\n",
       "  <tbody>\n",
       "    <tr>\n",
       "      <th>2014-01-06</th>\n",
       "      <td>2573.820</td>\n",
       "    </tr>\n",
       "    <tr>\n",
       "      <th>2014-01-07</th>\n",
       "      <td>76.728</td>\n",
       "    </tr>\n",
       "    <tr>\n",
       "      <th>2014-01-10</th>\n",
       "      <td>51.940</td>\n",
       "    </tr>\n",
       "    <tr>\n",
       "      <th>2014-01-11</th>\n",
       "      <td>9.940</td>\n",
       "    </tr>\n",
       "    <tr>\n",
       "      <th>2014-01-13</th>\n",
       "      <td>879.939</td>\n",
       "    </tr>\n",
       "  </tbody>\n",
       "</table>\n",
       "</div>"
      ],
      "text/plain": [
       "               Sales\n",
       "Order Date          \n",
       "2014-01-06  2573.820\n",
       "2014-01-07    76.728\n",
       "2014-01-10    51.940\n",
       "2014-01-11     9.940\n",
       "2014-01-13   879.939"
      ]
     },
     "execution_count": 111,
     "metadata": {},
     "output_type": "execute_result"
    }
   ],
   "source": [
    "df.set_index('Order Date',inplace=True)\n",
    "df.head()"
   ]
  },
  {
   "cell_type": "code",
   "execution_count": 112,
   "id": "b735f50a",
   "metadata": {},
   "outputs": [],
   "source": [
    "df1 = df.copy()"
   ]
  },
  {
   "cell_type": "code",
   "execution_count": 113,
   "id": "674c1c9c",
   "metadata": {},
   "outputs": [
    {
     "data": {
      "text/html": [
       "<div>\n",
       "<style scoped>\n",
       "    .dataframe tbody tr th:only-of-type {\n",
       "        vertical-align: middle;\n",
       "    }\n",
       "\n",
       "    .dataframe tbody tr th {\n",
       "        vertical-align: top;\n",
       "    }\n",
       "\n",
       "    .dataframe thead th {\n",
       "        text-align: right;\n",
       "    }\n",
       "</style>\n",
       "<table border=\"1\" class=\"dataframe\">\n",
       "  <thead>\n",
       "    <tr style=\"text-align: right;\">\n",
       "      <th></th>\n",
       "      <th>Sales</th>\n",
       "    </tr>\n",
       "    <tr>\n",
       "      <th>Order Date</th>\n",
       "      <th></th>\n",
       "    </tr>\n",
       "  </thead>\n",
       "  <tbody>\n",
       "    <tr>\n",
       "      <th>2014-01-12</th>\n",
       "      <td>678.107000</td>\n",
       "    </tr>\n",
       "    <tr>\n",
       "      <th>2014-01-19</th>\n",
       "      <td>312.618250</td>\n",
       "    </tr>\n",
       "    <tr>\n",
       "      <th>2014-01-26</th>\n",
       "      <td>551.986000</td>\n",
       "    </tr>\n",
       "    <tr>\n",
       "      <th>2014-02-02</th>\n",
       "      <td>311.833000</td>\n",
       "    </tr>\n",
       "    <tr>\n",
       "      <th>2014-02-09</th>\n",
       "      <td>14.560000</td>\n",
       "    </tr>\n",
       "    <tr>\n",
       "      <th>...</th>\n",
       "      <td>...</td>\n",
       "    </tr>\n",
       "    <tr>\n",
       "      <th>2017-12-03</th>\n",
       "      <td>2286.881714</td>\n",
       "    </tr>\n",
       "    <tr>\n",
       "      <th>2017-12-10</th>\n",
       "      <td>1465.734000</td>\n",
       "    </tr>\n",
       "    <tr>\n",
       "      <th>2017-12-17</th>\n",
       "      <td>773.303167</td>\n",
       "    </tr>\n",
       "    <tr>\n",
       "      <th>2017-12-24</th>\n",
       "      <td>1212.340500</td>\n",
       "    </tr>\n",
       "    <tr>\n",
       "      <th>2017-12-31</th>\n",
       "      <td>1009.391200</td>\n",
       "    </tr>\n",
       "  </tbody>\n",
       "</table>\n",
       "<p>208 rows × 1 columns</p>\n",
       "</div>"
      ],
      "text/plain": [
       "                  Sales\n",
       "Order Date             \n",
       "2014-01-12   678.107000\n",
       "2014-01-19   312.618250\n",
       "2014-01-26   551.986000\n",
       "2014-02-02   311.833000\n",
       "2014-02-09    14.560000\n",
       "...                 ...\n",
       "2017-12-03  2286.881714\n",
       "2017-12-10  1465.734000\n",
       "2017-12-17   773.303167\n",
       "2017-12-24  1212.340500\n",
       "2017-12-31  1009.391200\n",
       "\n",
       "[208 rows x 1 columns]"
      ]
     },
     "execution_count": 113,
     "metadata": {},
     "output_type": "execute_result"
    }
   ],
   "source": [
    "df1 = df['Sales'].resample('W').mean().to_frame()  # week wise\n",
    "df1"
   ]
  },
  {
   "cell_type": "code",
   "execution_count": 114,
   "id": "1840c503",
   "metadata": {},
   "outputs": [
    {
     "data": {
      "text/html": [
       "<div>\n",
       "<style scoped>\n",
       "    .dataframe tbody tr th:only-of-type {\n",
       "        vertical-align: middle;\n",
       "    }\n",
       "\n",
       "    .dataframe tbody tr th {\n",
       "        vertical-align: top;\n",
       "    }\n",
       "\n",
       "    .dataframe thead th {\n",
       "        text-align: right;\n",
       "    }\n",
       "</style>\n",
       "<table border=\"1\" class=\"dataframe\">\n",
       "  <thead>\n",
       "    <tr style=\"text-align: right;\">\n",
       "      <th></th>\n",
       "      <th>Sales</th>\n",
       "    </tr>\n",
       "    <tr>\n",
       "      <th>Order Date</th>\n",
       "      <th></th>\n",
       "    </tr>\n",
       "  </thead>\n",
       "  <tbody>\n",
       "    <tr>\n",
       "      <th>2014-01-01</th>\n",
       "      <td>480.194231</td>\n",
       "    </tr>\n",
       "    <tr>\n",
       "      <th>2014-02-01</th>\n",
       "      <td>367.931600</td>\n",
       "    </tr>\n",
       "    <tr>\n",
       "      <th>2014-03-01</th>\n",
       "      <td>857.291529</td>\n",
       "    </tr>\n",
       "    <tr>\n",
       "      <th>2014-04-01</th>\n",
       "      <td>567.488357</td>\n",
       "    </tr>\n",
       "    <tr>\n",
       "      <th>2014-05-01</th>\n",
       "      <td>432.049188</td>\n",
       "    </tr>\n",
       "    <tr>\n",
       "      <th>2014-06-01</th>\n",
       "      <td>695.059242</td>\n",
       "    </tr>\n",
       "    <tr>\n",
       "      <th>2014-07-01</th>\n",
       "      <td>601.169500</td>\n",
       "    </tr>\n",
       "    <tr>\n",
       "      <th>2014-08-01</th>\n",
       "      <td>457.521656</td>\n",
       "    </tr>\n",
       "    <tr>\n",
       "      <th>2014-09-01</th>\n",
       "      <td>992.353367</td>\n",
       "    </tr>\n",
       "    <tr>\n",
       "      <th>2014-10-01</th>\n",
       "      <td>769.015437</td>\n",
       "    </tr>\n",
       "    <tr>\n",
       "      <th>2014-11-01</th>\n",
       "      <td>980.221486</td>\n",
       "    </tr>\n",
       "    <tr>\n",
       "      <th>2014-12-01</th>\n",
       "      <td>1532.298325</td>\n",
       "    </tr>\n",
       "    <tr>\n",
       "      <th>2015-01-01</th>\n",
       "      <td>978.328467</td>\n",
       "    </tr>\n",
       "    <tr>\n",
       "      <th>2015-02-01</th>\n",
       "      <td>522.395667</td>\n",
       "    </tr>\n",
       "    <tr>\n",
       "      <th>2015-03-01</th>\n",
       "      <td>781.236437</td>\n",
       "    </tr>\n",
       "    <tr>\n",
       "      <th>2015-04-01</th>\n",
       "      <td>805.822962</td>\n",
       "    </tr>\n",
       "    <tr>\n",
       "      <th>2015-05-01</th>\n",
       "      <td>624.996700</td>\n",
       "    </tr>\n",
       "    <tr>\n",
       "      <th>2015-06-01</th>\n",
       "      <td>428.565500</td>\n",
       "    </tr>\n",
       "    <tr>\n",
       "      <th>2015-07-01</th>\n",
       "      <td>719.706316</td>\n",
       "    </tr>\n",
       "    <tr>\n",
       "      <th>2015-08-01</th>\n",
       "      <td>602.412012</td>\n",
       "    </tr>\n",
       "    <tr>\n",
       "      <th>2015-09-01</th>\n",
       "      <td>1382.790684</td>\n",
       "    </tr>\n",
       "    <tr>\n",
       "      <th>2015-10-01</th>\n",
       "      <td>632.980184</td>\n",
       "    </tr>\n",
       "    <tr>\n",
       "      <th>2015-11-01</th>\n",
       "      <td>1286.701354</td>\n",
       "    </tr>\n",
       "    <tr>\n",
       "      <th>2015-12-01</th>\n",
       "      <td>1049.355418</td>\n",
       "    </tr>\n",
       "    <tr>\n",
       "      <th>2016-01-01</th>\n",
       "      <td>508.182867</td>\n",
       "    </tr>\n",
       "    <tr>\n",
       "      <th>2016-02-01</th>\n",
       "      <td>356.868273</td>\n",
       "    </tr>\n",
       "    <tr>\n",
       "      <th>2016-03-01</th>\n",
       "      <td>609.575810</td>\n",
       "    </tr>\n",
       "    <tr>\n",
       "      <th>2016-04-01</th>\n",
       "      <td>695.373158</td>\n",
       "    </tr>\n",
       "    <tr>\n",
       "      <th>2016-05-01</th>\n",
       "      <td>687.265227</td>\n",
       "    </tr>\n",
       "    <tr>\n",
       "      <th>2016-06-01</th>\n",
       "      <td>816.910750</td>\n",
       "    </tr>\n",
       "    <tr>\n",
       "      <th>2016-07-01</th>\n",
       "      <td>768.736412</td>\n",
       "    </tr>\n",
       "    <tr>\n",
       "      <th>2016-08-01</th>\n",
       "      <td>734.307782</td>\n",
       "    </tr>\n",
       "    <tr>\n",
       "      <th>2016-09-01</th>\n",
       "      <td>1135.953371</td>\n",
       "    </tr>\n",
       "    <tr>\n",
       "      <th>2016-10-01</th>\n",
       "      <td>624.872474</td>\n",
       "    </tr>\n",
       "    <tr>\n",
       "      <th>2016-11-01</th>\n",
       "      <td>1271.345152</td>\n",
       "    </tr>\n",
       "    <tr>\n",
       "      <th>2016-12-01</th>\n",
       "      <td>1410.719808</td>\n",
       "    </tr>\n",
       "    <tr>\n",
       "      <th>2017-01-01</th>\n",
       "      <td>397.602133</td>\n",
       "    </tr>\n",
       "    <tr>\n",
       "      <th>2017-02-01</th>\n",
       "      <td>528.179800</td>\n",
       "    </tr>\n",
       "    <tr>\n",
       "      <th>2017-03-01</th>\n",
       "      <td>544.672240</td>\n",
       "    </tr>\n",
       "    <tr>\n",
       "      <th>2017-04-01</th>\n",
       "      <td>453.297905</td>\n",
       "    </tr>\n",
       "    <tr>\n",
       "      <th>2017-05-01</th>\n",
       "      <td>678.302328</td>\n",
       "    </tr>\n",
       "    <tr>\n",
       "      <th>2017-06-01</th>\n",
       "      <td>826.460291</td>\n",
       "    </tr>\n",
       "    <tr>\n",
       "      <th>2017-07-01</th>\n",
       "      <td>562.524857</td>\n",
       "    </tr>\n",
       "    <tr>\n",
       "      <th>2017-08-01</th>\n",
       "      <td>857.881889</td>\n",
       "    </tr>\n",
       "    <tr>\n",
       "      <th>2017-09-01</th>\n",
       "      <td>1209.508583</td>\n",
       "    </tr>\n",
       "    <tr>\n",
       "      <th>2017-10-01</th>\n",
       "      <td>875.362728</td>\n",
       "    </tr>\n",
       "    <tr>\n",
       "      <th>2017-11-01</th>\n",
       "      <td>1277.817759</td>\n",
       "    </tr>\n",
       "    <tr>\n",
       "      <th>2017-12-01</th>\n",
       "      <td>1256.298672</td>\n",
       "    </tr>\n",
       "  </tbody>\n",
       "</table>\n",
       "</div>"
      ],
      "text/plain": [
       "                  Sales\n",
       "Order Date             \n",
       "2014-01-01   480.194231\n",
       "2014-02-01   367.931600\n",
       "2014-03-01   857.291529\n",
       "2014-04-01   567.488357\n",
       "2014-05-01   432.049188\n",
       "2014-06-01   695.059242\n",
       "2014-07-01   601.169500\n",
       "2014-08-01   457.521656\n",
       "2014-09-01   992.353367\n",
       "2014-10-01   769.015437\n",
       "2014-11-01   980.221486\n",
       "2014-12-01  1532.298325\n",
       "2015-01-01   978.328467\n",
       "2015-02-01   522.395667\n",
       "2015-03-01   781.236437\n",
       "2015-04-01   805.822962\n",
       "2015-05-01   624.996700\n",
       "2015-06-01   428.565500\n",
       "2015-07-01   719.706316\n",
       "2015-08-01   602.412012\n",
       "2015-09-01  1382.790684\n",
       "2015-10-01   632.980184\n",
       "2015-11-01  1286.701354\n",
       "2015-12-01  1049.355418\n",
       "2016-01-01   508.182867\n",
       "2016-02-01   356.868273\n",
       "2016-03-01   609.575810\n",
       "2016-04-01   695.373158\n",
       "2016-05-01   687.265227\n",
       "2016-06-01   816.910750\n",
       "2016-07-01   768.736412\n",
       "2016-08-01   734.307782\n",
       "2016-09-01  1135.953371\n",
       "2016-10-01   624.872474\n",
       "2016-11-01  1271.345152\n",
       "2016-12-01  1410.719808\n",
       "2017-01-01   397.602133\n",
       "2017-02-01   528.179800\n",
       "2017-03-01   544.672240\n",
       "2017-04-01   453.297905\n",
       "2017-05-01   678.302328\n",
       "2017-06-01   826.460291\n",
       "2017-07-01   562.524857\n",
       "2017-08-01   857.881889\n",
       "2017-09-01  1209.508583\n",
       "2017-10-01   875.362728\n",
       "2017-11-01  1277.817759\n",
       "2017-12-01  1256.298672"
      ]
     },
     "execution_count": 114,
     "metadata": {},
     "output_type": "execute_result"
    }
   ],
   "source": [
    "df = df[\"Sales\"].resample('MS').mean().to_frame()   # resampling it to months\n",
    "df"
   ]
  },
  {
   "cell_type": "code",
   "execution_count": 115,
   "id": "0ba43584",
   "metadata": {},
   "outputs": [
    {
     "data": {
      "text/html": [
       "<div>\n",
       "<style scoped>\n",
       "    .dataframe tbody tr th:only-of-type {\n",
       "        vertical-align: middle;\n",
       "    }\n",
       "\n",
       "    .dataframe tbody tr th {\n",
       "        vertical-align: top;\n",
       "    }\n",
       "\n",
       "    .dataframe thead th {\n",
       "        text-align: right;\n",
       "    }\n",
       "</style>\n",
       "<table border=\"1\" class=\"dataframe\">\n",
       "  <thead>\n",
       "    <tr style=\"text-align: right;\">\n",
       "      <th></th>\n",
       "      <th>Sales</th>\n",
       "    </tr>\n",
       "    <tr>\n",
       "      <th>Order Date</th>\n",
       "      <th></th>\n",
       "    </tr>\n",
       "  </thead>\n",
       "  <tbody>\n",
       "    <tr>\n",
       "      <th>2014-01-01</th>\n",
       "      <td>480.194231</td>\n",
       "    </tr>\n",
       "    <tr>\n",
       "      <th>2014-02-01</th>\n",
       "      <td>367.931600</td>\n",
       "    </tr>\n",
       "    <tr>\n",
       "      <th>2014-03-01</th>\n",
       "      <td>857.291529</td>\n",
       "    </tr>\n",
       "    <tr>\n",
       "      <th>2014-04-01</th>\n",
       "      <td>567.488357</td>\n",
       "    </tr>\n",
       "    <tr>\n",
       "      <th>2014-05-01</th>\n",
       "      <td>432.049188</td>\n",
       "    </tr>\n",
       "  </tbody>\n",
       "</table>\n",
       "</div>"
      ],
      "text/plain": [
       "                 Sales\n",
       "Order Date            \n",
       "2014-01-01  480.194231\n",
       "2014-02-01  367.931600\n",
       "2014-03-01  857.291529\n",
       "2014-04-01  567.488357\n",
       "2014-05-01  432.049188"
      ]
     },
     "execution_count": 115,
     "metadata": {},
     "output_type": "execute_result"
    }
   ],
   "source": [
    "df.head()"
   ]
  },
  {
   "cell_type": "code",
   "execution_count": 116,
   "id": "98ec1de5",
   "metadata": {},
   "outputs": [
    {
     "data": {
      "text/plain": [
       "(48, 1)"
      ]
     },
     "execution_count": 116,
     "metadata": {},
     "output_type": "execute_result"
    }
   ],
   "source": [
    "df.shape"
   ]
  },
  {
   "cell_type": "code",
   "execution_count": 117,
   "id": "88977093",
   "metadata": {},
   "outputs": [
    {
     "data": {
      "image/png": "[encoded data removed]",
      "text/plain": [
       "<Figure size 800x500 with 1 Axes>"
      ]
     },
     "metadata": {},
     "output_type": "display_data"
    }
   ],
   "source": [
    "# plt.figure(figsize=(18,5))\n",
    "df.plot(figsize=(8,5))\n",
    "plt.show()"
   ]
  },
  {
   "cell_type": "code",
   "execution_count": 118,
   "id": "f441797f",
   "metadata": {},
   "outputs": [],
   "source": [
    "from statsmodels.tsa.stattools import adfuller"
   ]
  },
  {
   "cell_type": "code",
   "execution_count": 119,
   "id": "d4644b89",
   "metadata": {},
   "outputs": [],
   "source": [
    "def adf_test(data):\n",
    "    res = adfuller(data)\n",
    "    print('ADF-Test_Stat',res[0])\n",
    "    print('p-val',res[1])\n",
    "    if res[1]> 0.05:\n",
    "        print('Ho accepted - Data is non-stationary')\n",
    "    else:\n",
    "        print('H1 accepted - Data is stationary')"
   ]
  },
  {
   "cell_type": "code",
   "execution_count": 120,
   "id": "462a269d",
   "metadata": {},
   "outputs": [
    {
     "name": "stdout",
     "output_type": "stream",
     "text": [
      "ADF-Test_Stat -5.191070187339276\n",
      "p-val 9.168756655665362e-06\n",
      "H1 accepted - Data is stationary\n"
     ]
    }
   ],
   "source": [
    "adf_test(df)"
   ]
  },
  {
   "cell_type": "markdown",
   "id": "b1a8770f",
   "metadata": {},
   "source": [
    "#### Hence\n",
    "d = 0"
   ]
  },
  {
   "cell_type": "markdown",
   "id": "fd557eb1",
   "metadata": {},
   "source": [
    "#### Decomposition"
   ]
  },
  {
   "cell_type": "code",
   "execution_count": 121,
   "id": "68bb4cde",
   "metadata": {},
   "outputs": [],
   "source": [
    "from statsmodels.tsa.seasonal import seasonal_decompose"
   ]
  },
  {
   "cell_type": "code",
   "execution_count": 122,
   "id": "35ca4c3b",
   "metadata": {},
   "outputs": [
    {
     "data": {
      "image/png": "[encoded data removed]",
      "text/plain": [
       "<Figure size 640x480 with 1 Axes>"
      ]
     },
     "metadata": {},
     "output_type": "display_data"
    }
   ],
   "source": [
    "decompose_data(df)"
   ]
  },
  {
   "cell_type": "code",
   "execution_count": 123,
   "id": "3d2f5e07",
   "metadata": {},
   "outputs": [],
   "source": [
    "# decomposition = seasonal_decompose(df)\n",
    "\n",
    "# trend  = decomposition.trend\n",
    "# plt.show()\n",
    "# plt.plot(trend, label = \"Trend\")\n",
    "# plt.legend(loc  = \"best\")\n",
    "\n",
    "# seasonal = decomposition.seasonal\n",
    "# plt.show()\n",
    "# plt.plot(seasonal, label = 'Seasonal')\n",
    "# plt.legend(loc = 'best')\n",
    "\n",
    "# residual = decomposition.resid\n",
    "# plt.show()\n",
    "# plt.plot(residual, label = 'Residual')\n",
    "# plt.legend(loc = 'best')"
   ]
  },
  {
   "cell_type": "code",
   "execution_count": 124,
   "id": "98da5e37",
   "metadata": {},
   "outputs": [
    {
     "data": {
      "image/png": "[encoded data removed]",
      "text/plain": [
       "<Figure size 640x480 with 1 Axes>"
      ]
     },
     "metadata": {},
     "output_type": "display_data"
    }
   ],
   "source": [
    "decom = seasonal_decompose(df,model='additive')\n",
    "\n",
    "original = decom.observed\n",
    "trend = decom.trend\n",
    "seasonal = decom.seasonal\n",
    "\n",
    "plt.plot(original,label='Original',color='blue')\n",
    "plt.plot(trend,label='Trend',color='black')\n",
    "plt.plot(seasonal,label='Seasonal',color='green')\n",
    "plt.title('Seasonal Deocomposition')\n",
    "plt.legend()\n",
    "plt.show()"
   ]
  },
  {
   "cell_type": "markdown",
   "id": "27d96c94",
   "metadata": {},
   "source": [
    "### Plot ACF and PACF"
   ]
  },
  {
   "cell_type": "code",
   "execution_count": 125,
   "id": "d9c54906",
   "metadata": {},
   "outputs": [],
   "source": [
    "from statsmodels.graphics.tsaplots import plot_acf,plot_pacf"
   ]
  },
  {
   "cell_type": "code",
   "execution_count": 129,
   "id": "53a2dc04",
   "metadata": {},
   "outputs": [
    {
     "data": {
      "image/png": "[encoded data removed]",
      "text/plain": [
       "<Figure size 640x480 with 1 Axes>"
      ]
     },
     "metadata": {},
     "output_type": "display_data"
    }
   ],
   "source": [
    "plot_acf(df['Sales'],lags=30)\n",
    "plt.show()\n",
    "# q = 12"
   ]
  },
  {
   "cell_type": "code",
   "execution_count": 132,
   "id": "4ec1a59a",
   "metadata": {},
   "outputs": [
    {
     "data": {
      "image/png": "[encoded data removed]",
      "text/plain": [
       "<Figure size 640x480 with 1 Axes>"
      ]
     },
     "metadata": {},
     "output_type": "display_data"
    }
   ],
   "source": [
    "plot_pacf(df['Sales'])\n",
    "plt.show()\n",
    "# p = 12"
   ]
  },
  {
   "cell_type": "markdown",
   "id": "04302462",
   "metadata": {},
   "source": [
    "#### Split data into train and test"
   ]
  },
  {
   "cell_type": "code",
   "execution_count": 140,
   "id": "f4fc37be",
   "metadata": {},
   "outputs": [
    {
     "name": "stdout",
     "output_type": "stream",
     "text": [
      "(36, 1)\n",
      "(12, 1)\n"
     ]
    }
   ],
   "source": [
    "train = df.iloc[:36]\n",
    "test = df.iloc[36:]\n",
    "print(train.shape)\n",
    "print(test.shape)\n",
    "\n",
    "# (p,d,q) = (12,0,12)"
   ]
  },
  {
   "cell_type": "code",
   "execution_count": 141,
   "id": "ff4d99e1",
   "metadata": {},
   "outputs": [
    {
     "data": {
      "text/html": [
       "<div>\n",
       "<style scoped>\n",
       "    .dataframe tbody tr th:only-of-type {\n",
       "        vertical-align: middle;\n",
       "    }\n",
       "\n",
       "    .dataframe tbody tr th {\n",
       "        vertical-align: top;\n",
       "    }\n",
       "\n",
       "    .dataframe thead th {\n",
       "        text-align: right;\n",
       "    }\n",
       "</style>\n",
       "<table border=\"1\" class=\"dataframe\">\n",
       "  <thead>\n",
       "    <tr style=\"text-align: right;\">\n",
       "      <th></th>\n",
       "      <th>Sales</th>\n",
       "    </tr>\n",
       "    <tr>\n",
       "      <th>Order Date</th>\n",
       "      <th></th>\n",
       "    </tr>\n",
       "  </thead>\n",
       "  <tbody>\n",
       "    <tr>\n",
       "      <th>2016-11-01</th>\n",
       "      <td>1271.345152</td>\n",
       "    </tr>\n",
       "    <tr>\n",
       "      <th>2016-12-01</th>\n",
       "      <td>1410.719808</td>\n",
       "    </tr>\n",
       "  </tbody>\n",
       "</table>\n",
       "</div>"
      ],
      "text/plain": [
       "                  Sales\n",
       "Order Date             \n",
       "2016-11-01  1271.345152\n",
       "2016-12-01  1410.719808"
      ]
     },
     "execution_count": 141,
     "metadata": {},
     "output_type": "execute_result"
    }
   ],
   "source": [
    "train.tail(2)"
   ]
  },
  {
   "cell_type": "code",
   "execution_count": 144,
   "id": "fd496b3e",
   "metadata": {},
   "outputs": [
    {
     "data": {
      "text/html": [
       "<div>\n",
       "<style scoped>\n",
       "    .dataframe tbody tr th:only-of-type {\n",
       "        vertical-align: middle;\n",
       "    }\n",
       "\n",
       "    .dataframe tbody tr th {\n",
       "        vertical-align: top;\n",
       "    }\n",
       "\n",
       "    .dataframe thead th {\n",
       "        text-align: right;\n",
       "    }\n",
       "</style>\n",
       "<table border=\"1\" class=\"dataframe\">\n",
       "  <thead>\n",
       "    <tr style=\"text-align: right;\">\n",
       "      <th></th>\n",
       "      <th>Sales</th>\n",
       "    </tr>\n",
       "    <tr>\n",
       "      <th>Order Date</th>\n",
       "      <th></th>\n",
       "    </tr>\n",
       "  </thead>\n",
       "  <tbody>\n",
       "    <tr>\n",
       "      <th>2017-01-01</th>\n",
       "      <td>397.602133</td>\n",
       "    </tr>\n",
       "    <tr>\n",
       "      <th>2017-02-01</th>\n",
       "      <td>528.179800</td>\n",
       "    </tr>\n",
       "  </tbody>\n",
       "</table>\n",
       "</div>"
      ],
      "text/plain": [
       "                 Sales\n",
       "Order Date            \n",
       "2017-01-01  397.602133\n",
       "2017-02-01  528.179800"
      ]
     },
     "execution_count": 144,
     "metadata": {},
     "output_type": "execute_result"
    }
   ],
   "source": [
    "test.head(2)"
   ]
  },
  {
   "cell_type": "code",
   "execution_count": 63,
   "id": "0344e3bd",
   "metadata": {},
   "outputs": [],
   "source": [
    "from sklearn.metrics import mean_squared_error,mean_absolute_error,mean_absolute_percentage_error"
   ]
  },
  {
   "cell_type": "code",
   "execution_count": 64,
   "id": "6ebf8349",
   "metadata": {},
   "outputs": [],
   "source": [
    "def eval_model(test,pred,model_name):\n",
    "    mae = mean_absolute_error(test,pred)\n",
    "    mse = mean_squared_error(test,pred)\n",
    "    rmse = np.sqrt(mean_squared_error(test,pred))\n",
    "    mape = mean_absolute_percentage_error(test,pred)\n",
    "    res = pd.DataFrame({'MAE':mae,'MSE':mse,'RMSE':rmse,'MAPE':mape},\n",
    "                       index=[model_name])\n",
    "    return res\n",
    "\n",
    "def plot_res(train,test,fcast):  # fcast = forecast\n",
    "    plt.plot(train,label='Train',color='blue')\n",
    "    plt.plot(test,label='Test',color='orange')\n",
    "    plt.plot(fcast,label='fcast',color='green')\n",
    "    plt.legend()\n",
    "    plt.show()"
   ]
  },
  {
   "cell_type": "code",
   "execution_count": 145,
   "id": "4dd30ca2",
   "metadata": {},
   "outputs": [],
   "source": [
    "from statsmodels.tsa.holtwinters import ExponentialSmoothing"
   ]
  },
  {
   "cell_type": "markdown",
   "id": "17a43a01",
   "metadata": {},
   "source": [
    "### TES (Holt Winter Method)"
   ]
  },
  {
   "cell_type": "code",
   "execution_count": 146,
   "id": "3c0d3a07",
   "metadata": {},
   "outputs": [],
   "source": [
    "alpha = 0.2\n",
    "beta = 0.5\n",
    "gamma = 0.4\n",
    "\n",
    "tes1 = ExponentialSmoothing(train, trend=None, seasonal='add')\n",
    "tes1_model = tes1.fit(smoothing_level=alpha,smoothing_trend=beta,smoothing_seasonal=gamma)"
   ]
  },
  {
   "cell_type": "code",
   "execution_count": 149,
   "id": "529eff65",
   "metadata": {},
   "outputs": [
    {
     "data": {
      "text/plain": [
       "2017-01-01     735.000269\n",
       "2017-02-01     504.514915\n",
       "2017-03-01     820.972167\n",
       "2017-04-01     809.713265\n",
       "2017-05-01     705.513526\n",
       "2017-06-01     750.073891\n",
       "2017-07-01     782.313859\n",
       "2017-08-01     685.777667\n",
       "2017-09-01    1218.580697\n",
       "2017-10-01     703.766695\n",
       "2017-11-01    1251.396263\n",
       "2017-12-01    1309.322207\n",
       "Freq: MS, dtype: float64"
      ]
     },
     "execution_count": 149,
     "metadata": {},
     "output_type": "execute_result"
    }
   ],
   "source": [
    "fcast_tes1 = tes1_model.forecast(test.shape[0])  # test.shape[0] = 97\n",
    "fcast_tes1"
   ]
  },
  {
   "cell_type": "code",
   "execution_count": 148,
   "id": "7d781dc1",
   "metadata": {},
   "outputs": [
    {
     "data": {
      "image/png": "[encoded data removed]",
      "text/plain": [
       "<Figure size 640x480 with 1 Axes>"
      ]
     },
     "metadata": {},
     "output_type": "display_data"
    }
   ],
   "source": [
    "plot_res(train,test,fcast_tes1)"
   ]
  },
  {
   "cell_type": "code",
   "execution_count": 150,
   "id": "cdaf53b6",
   "metadata": {},
   "outputs": [
    {
     "data": {
      "text/html": [
       "<div>\n",
       "<style scoped>\n",
       "    .dataframe tbody tr th:only-of-type {\n",
       "        vertical-align: middle;\n",
       "    }\n",
       "\n",
       "    .dataframe tbody tr th {\n",
       "        vertical-align: top;\n",
       "    }\n",
       "\n",
       "    .dataframe thead th {\n",
       "        text-align: right;\n",
       "    }\n",
       "</style>\n",
       "<table border=\"1\" class=\"dataframe\">\n",
       "  <thead>\n",
       "    <tr style=\"text-align: right;\">\n",
       "      <th></th>\n",
       "      <th>MAE</th>\n",
       "      <th>MSE</th>\n",
       "      <th>RMSE</th>\n",
       "      <th>MAPE</th>\n",
       "    </tr>\n",
       "  </thead>\n",
       "  <tbody>\n",
       "    <tr>\n",
       "      <th>TES(0.2,0.5,0.4)</th>\n",
       "      <td>145.781859</td>\n",
       "      <td>36275.881645</td>\n",
       "      <td>190.462284</td>\n",
       "      <td>0.264769</td>\n",
       "    </tr>\n",
       "  </tbody>\n",
       "</table>\n",
       "</div>"
      ],
      "text/plain": [
       "                         MAE           MSE        RMSE      MAPE\n",
       "TES(0.2,0.5,0.4)  145.781859  36275.881645  190.462284  0.264769"
      ]
     },
     "execution_count": 150,
     "metadata": {},
     "output_type": "execute_result"
    }
   ],
   "source": [
    "tes1_res = eval_model(test,fcast_tes1,'TES(0.2,0.5,0.4)')\n",
    "tes1_res"
   ]
  },
  {
   "cell_type": "code",
   "execution_count": 151,
   "id": "9d1233d5",
   "metadata": {},
   "outputs": [],
   "source": [
    "alpha = [0.1,0.2,0.3,0.4,0.5]\n",
    "beta =  [0.1,0.2,0.3,0.4,0.5]\n",
    "gamma = [0.1,0.2,0.3,0.4,0.5]\n",
    "\n",
    "\n",
    "def custom_exp_smoothing(train,test,alpha,beta,gamma):\n",
    "    mse_res = []\n",
    "    ijk_res = []\n",
    "    for i in alpha:\n",
    "        for j in beta:\n",
    "            for k in gamma:\n",
    "                es = ExponentialSmoothing(train, trend='mul', seasonal='add')\n",
    "                es_model = es.fit(smoothing_level=i, smoothing_trend=j,smoothing_seasonal=k)\n",
    "                fcast = es_model.forecast(test.shape[0])\n",
    "                if mean_squared_error(test,fcast) != np.inf :\n",
    "    #             or mean_squared_error(test,fcast) != np.nan:\n",
    "                        mse = mean_squared_error(test,fcast)\n",
    "                else:\n",
    "                    pass\n",
    "                mse_res.append(mse)\n",
    "                ijk_res.append([i,j,k])\n",
    "    print(min(mse_res))\n",
    "    min_mse_idx = mse_res.index(min(mse_res)) \n",
    "    print(ijk_res[min_mse_idx]) \n",
    "    "
   ]
  },
  {
   "cell_type": "code",
   "execution_count": 153,
   "id": "f501d361",
   "metadata": {},
   "outputs": [
    {
     "name": "stderr",
     "output_type": "stream",
     "text": [
      "C:\\Users\\Dell\\anaconda3\\lib\\site-packages\\statsmodels\\tsa\\holtwinters\\model.py:83: RuntimeWarning: overflow encountered in matmul\n",
      "  return err.T @ err\n",
      "C:\\Users\\Dell\\anaconda3\\lib\\site-packages\\statsmodels\\tsa\\holtwinters\\model.py:83: RuntimeWarning: overflow encountered in matmul\n",
      "  return err.T @ err\n",
      "C:\\Users\\Dell\\anaconda3\\lib\\site-packages\\statsmodels\\tsa\\holtwinters\\model.py:83: RuntimeWarning: overflow encountered in matmul\n",
      "  return err.T @ err\n",
      "C:\\Users\\Dell\\anaconda3\\lib\\site-packages\\statsmodels\\tsa\\holtwinters\\model.py:83: RuntimeWarning: overflow encountered in matmul\n",
      "  return err.T @ err\n",
      "C:\\Users\\Dell\\anaconda3\\lib\\site-packages\\statsmodels\\tsa\\holtwinters\\model.py:83: RuntimeWarning: overflow encountered in matmul\n",
      "  return err.T @ err\n",
      "C:\\Users\\Dell\\anaconda3\\lib\\site-packages\\statsmodels\\tsa\\holtwinters\\model.py:83: RuntimeWarning: overflow encountered in matmul\n",
      "  return err.T @ err\n",
      "C:\\Users\\Dell\\anaconda3\\lib\\site-packages\\statsmodels\\tsa\\holtwinters\\model.py:83: RuntimeWarning: overflow encountered in matmul\n",
      "  return err.T @ err\n",
      "C:\\Users\\Dell\\anaconda3\\lib\\site-packages\\statsmodels\\tsa\\holtwinters\\model.py:83: RuntimeWarning: overflow encountered in matmul\n",
      "  return err.T @ err\n",
      "C:\\Users\\Dell\\anaconda3\\lib\\site-packages\\statsmodels\\tsa\\holtwinters\\model.py:83: RuntimeWarning: overflow encountered in matmul\n",
      "  return err.T @ err\n",
      "C:\\Users\\Dell\\anaconda3\\lib\\site-packages\\statsmodels\\tsa\\holtwinters\\model.py:83: RuntimeWarning: overflow encountered in matmul\n",
      "  return err.T @ err\n",
      "C:\\Users\\Dell\\anaconda3\\lib\\site-packages\\statsmodels\\tsa\\holtwinters\\model.py:83: RuntimeWarning: overflow encountered in matmul\n",
      "  return err.T @ err\n",
      "C:\\Users\\Dell\\anaconda3\\lib\\site-packages\\statsmodels\\tsa\\holtwinters\\model.py:83: RuntimeWarning: overflow encountered in matmul\n",
      "  return err.T @ err\n",
      "C:\\Users\\Dell\\anaconda3\\lib\\site-packages\\statsmodels\\tsa\\holtwinters\\model.py:83: RuntimeWarning: overflow encountered in matmul\n",
      "  return err.T @ err\n",
      "C:\\Users\\Dell\\anaconda3\\lib\\site-packages\\statsmodels\\tsa\\holtwinters\\model.py:83: RuntimeWarning: overflow encountered in matmul\n",
      "  return err.T @ err\n",
      "C:\\Users\\Dell\\anaconda3\\lib\\site-packages\\statsmodels\\tsa\\holtwinters\\model.py:83: RuntimeWarning: overflow encountered in matmul\n",
      "  return err.T @ err\n",
      "C:\\Users\\Dell\\anaconda3\\lib\\site-packages\\statsmodels\\tsa\\holtwinters\\model.py:83: RuntimeWarning: overflow encountered in matmul\n",
      "  return err.T @ err\n",
      "C:\\Users\\Dell\\anaconda3\\lib\\site-packages\\statsmodels\\tsa\\holtwinters\\model.py:83: RuntimeWarning: overflow encountered in matmul\n",
      "  return err.T @ err\n",
      "C:\\Users\\Dell\\anaconda3\\lib\\site-packages\\statsmodels\\tsa\\holtwinters\\model.py:83: RuntimeWarning: overflow encountered in matmul\n",
      "  return err.T @ err\n",
      "C:\\Users\\Dell\\anaconda3\\lib\\site-packages\\statsmodels\\tsa\\holtwinters\\model.py:83: RuntimeWarning: overflow encountered in matmul\n",
      "  return err.T @ err\n",
      "C:\\Users\\Dell\\anaconda3\\lib\\site-packages\\statsmodels\\tsa\\holtwinters\\model.py:83: RuntimeWarning: overflow encountered in matmul\n",
      "  return err.T @ err\n",
      "C:\\Users\\Dell\\anaconda3\\lib\\site-packages\\statsmodels\\tsa\\holtwinters\\model.py:83: RuntimeWarning: overflow encountered in matmul\n",
      "  return err.T @ err\n",
      "C:\\Users\\Dell\\anaconda3\\lib\\site-packages\\statsmodels\\tsa\\holtwinters\\model.py:83: RuntimeWarning: overflow encountered in matmul\n",
      "  return err.T @ err\n",
      "C:\\Users\\Dell\\anaconda3\\lib\\site-packages\\statsmodels\\tsa\\holtwinters\\model.py:83: RuntimeWarning: overflow encountered in matmul\n",
      "  return err.T @ err\n",
      "C:\\Users\\Dell\\anaconda3\\lib\\site-packages\\statsmodels\\tsa\\holtwinters\\model.py:83: RuntimeWarning: overflow encountered in matmul\n",
      "  return err.T @ err\n",
      "C:\\Users\\Dell\\anaconda3\\lib\\site-packages\\statsmodels\\tsa\\holtwinters\\model.py:83: RuntimeWarning: overflow encountered in matmul\n",
      "  return err.T @ err\n",
      "C:\\Users\\Dell\\anaconda3\\lib\\site-packages\\statsmodels\\tsa\\holtwinters\\model.py:83: RuntimeWarning: overflow encountered in matmul\n",
      "  return err.T @ err\n",
      "C:\\Users\\Dell\\anaconda3\\lib\\site-packages\\statsmodels\\tsa\\holtwinters\\model.py:83: RuntimeWarning: overflow encountered in matmul\n",
      "  return err.T @ err\n",
      "C:\\Users\\Dell\\anaconda3\\lib\\site-packages\\statsmodels\\tsa\\holtwinters\\model.py:83: RuntimeWarning: overflow encountered in matmul\n",
      "  return err.T @ err\n",
      "C:\\Users\\Dell\\anaconda3\\lib\\site-packages\\statsmodels\\tsa\\holtwinters\\model.py:83: RuntimeWarning: overflow encountered in matmul\n",
      "  return err.T @ err\n",
      "C:\\Users\\Dell\\anaconda3\\lib\\site-packages\\statsmodels\\tsa\\holtwinters\\model.py:83: RuntimeWarning: overflow encountered in matmul\n",
      "  return err.T @ err\n",
      "C:\\Users\\Dell\\anaconda3\\lib\\site-packages\\statsmodels\\tsa\\holtwinters\\model.py:83: RuntimeWarning: overflow encountered in matmul\n",
      "  return err.T @ err\n",
      "C:\\Users\\Dell\\anaconda3\\lib\\site-packages\\statsmodels\\tsa\\holtwinters\\model.py:83: RuntimeWarning: overflow encountered in matmul\n",
      "  return err.T @ err\n",
      "C:\\Users\\Dell\\anaconda3\\lib\\site-packages\\statsmodels\\tsa\\holtwinters\\model.py:83: RuntimeWarning: overflow encountered in matmul\n",
      "  return err.T @ err\n",
      "C:\\Users\\Dell\\anaconda3\\lib\\site-packages\\statsmodels\\tsa\\holtwinters\\model.py:83: RuntimeWarning: overflow encountered in matmul\n",
      "  return err.T @ err\n",
      "C:\\Users\\Dell\\anaconda3\\lib\\site-packages\\statsmodels\\tsa\\holtwinters\\model.py:83: RuntimeWarning: overflow encountered in matmul\n",
      "  return err.T @ err\n",
      "C:\\Users\\Dell\\anaconda3\\lib\\site-packages\\statsmodels\\tsa\\holtwinters\\model.py:83: RuntimeWarning: overflow encountered in matmul\n",
      "  return err.T @ err\n",
      "C:\\Users\\Dell\\anaconda3\\lib\\site-packages\\statsmodels\\tsa\\holtwinters\\model.py:83: RuntimeWarning: overflow encountered in matmul\n",
      "  return err.T @ err\n",
      "C:\\Users\\Dell\\anaconda3\\lib\\site-packages\\statsmodels\\tsa\\holtwinters\\model.py:83: RuntimeWarning: overflow encountered in matmul\n",
      "  return err.T @ err\n",
      "C:\\Users\\Dell\\anaconda3\\lib\\site-packages\\statsmodels\\tsa\\holtwinters\\model.py:83: RuntimeWarning: overflow encountered in matmul\n",
      "  return err.T @ err\n",
      "C:\\Users\\Dell\\anaconda3\\lib\\site-packages\\statsmodels\\tsa\\holtwinters\\model.py:83: RuntimeWarning: overflow encountered in matmul\n",
      "  return err.T @ err\n",
      "C:\\Users\\Dell\\anaconda3\\lib\\site-packages\\statsmodels\\tsa\\holtwinters\\model.py:83: RuntimeWarning: overflow encountered in matmul\n",
      "  return err.T @ err\n",
      "C:\\Users\\Dell\\anaconda3\\lib\\site-packages\\statsmodels\\tsa\\holtwinters\\model.py:83: RuntimeWarning: overflow encountered in matmul\n",
      "  return err.T @ err\n",
      "C:\\Users\\Dell\\anaconda3\\lib\\site-packages\\statsmodels\\tsa\\holtwinters\\model.py:83: RuntimeWarning: overflow encountered in matmul\n",
      "  return err.T @ err\n",
      "C:\\Users\\Dell\\anaconda3\\lib\\site-packages\\statsmodels\\tsa\\holtwinters\\model.py:83: RuntimeWarning: overflow encountered in matmul\n",
      "  return err.T @ err\n",
      "C:\\Users\\Dell\\anaconda3\\lib\\site-packages\\statsmodels\\tsa\\holtwinters\\model.py:83: RuntimeWarning: overflow encountered in matmul\n",
      "  return err.T @ err\n",
      "C:\\Users\\Dell\\anaconda3\\lib\\site-packages\\statsmodels\\tsa\\holtwinters\\model.py:83: RuntimeWarning: overflow encountered in matmul\n",
      "  return err.T @ err\n",
      "C:\\Users\\Dell\\anaconda3\\lib\\site-packages\\statsmodels\\tsa\\holtwinters\\model.py:83: RuntimeWarning: overflow encountered in matmul\n",
      "  return err.T @ err\n",
      "C:\\Users\\Dell\\anaconda3\\lib\\site-packages\\statsmodels\\tsa\\holtwinters\\model.py:83: RuntimeWarning: overflow encountered in matmul\n",
      "  return err.T @ err\n",
      "C:\\Users\\Dell\\anaconda3\\lib\\site-packages\\statsmodels\\tsa\\holtwinters\\model.py:83: RuntimeWarning: overflow encountered in matmul\n",
      "  return err.T @ err\n",
      "C:\\Users\\Dell\\anaconda3\\lib\\site-packages\\statsmodels\\tsa\\holtwinters\\model.py:83: RuntimeWarning: overflow encountered in matmul\n",
      "  return err.T @ err\n",
      "C:\\Users\\Dell\\anaconda3\\lib\\site-packages\\statsmodels\\tsa\\holtwinters\\model.py:83: RuntimeWarning: overflow encountered in matmul\n",
      "  return err.T @ err\n",
      "C:\\Users\\Dell\\anaconda3\\lib\\site-packages\\statsmodels\\tsa\\holtwinters\\model.py:83: RuntimeWarning: overflow encountered in matmul\n",
      "  return err.T @ err\n"
     ]
    },
    {
     "name": "stdout",
     "output_type": "stream",
     "text": [
      "30891.20219156814\n",
      "[0.1, 0.2, 0.4]\n"
     ]
    }
   ],
   "source": [
    "custom_exp_smoothing(train,test,alpha,beta,gamma)"
   ]
  },
  {
   "cell_type": "code",
   "execution_count": 157,
   "id": "a340ecc2",
   "metadata": {},
   "outputs": [],
   "source": [
    "alpha = 0.1\n",
    "beta = 0.2\n",
    "gamma = 0.4\n",
    "\n",
    "tes2 = ExponentialSmoothing(train, trend=None, seasonal='add')\n",
    "tes2_model = tes2.fit(smoothing_level=alpha,smoothing_trend=beta,smoothing_seasonal=gamma)"
   ]
  },
  {
   "cell_type": "code",
   "execution_count": 158,
   "id": "c011602b",
   "metadata": {},
   "outputs": [
    {
     "data": {
      "text/plain": [
       "2017-01-01     693.285714\n",
       "2017-02-01     460.392106\n",
       "2017-03-01     774.805333\n",
       "2017-04-01     757.283570\n",
       "2017-05-01     660.053293\n",
       "2017-06-01     713.711586\n",
       "2017-07-01     751.507253\n",
       "2017-08-01     658.940794\n",
       "2017-09-01    1199.383878\n",
       "2017-10-01     683.598339\n",
       "2017-11-01    1228.749592\n",
       "2017-12-01    1293.516409\n",
       "Freq: MS, dtype: float64"
      ]
     },
     "execution_count": 158,
     "metadata": {},
     "output_type": "execute_result"
    }
   ],
   "source": [
    "fcast_tes2 = tes2_model.forecast(test.shape[0])  # test.shape[0] = 97\n",
    "fcast_tes2"
   ]
  },
  {
   "cell_type": "code",
   "execution_count": 159,
   "id": "3232ad12",
   "metadata": {},
   "outputs": [
    {
     "data": {
      "image/png": "[encoded data removed]",
      "text/plain": [
       "<Figure size 640x480 with 1 Axes>"
      ]
     },
     "metadata": {},
     "output_type": "display_data"
    }
   ],
   "source": [
    "plot_res(train,test,fcast_tes2)"
   ]
  },
  {
   "cell_type": "code",
   "execution_count": 160,
   "id": "e45c8655",
   "metadata": {},
   "outputs": [
    {
     "data": {
      "text/html": [
       "<div>\n",
       "<style scoped>\n",
       "    .dataframe tbody tr th:only-of-type {\n",
       "        vertical-align: middle;\n",
       "    }\n",
       "\n",
       "    .dataframe tbody tr th {\n",
       "        vertical-align: top;\n",
       "    }\n",
       "\n",
       "    .dataframe thead th {\n",
       "        text-align: right;\n",
       "    }\n",
       "</style>\n",
       "<table border=\"1\" class=\"dataframe\">\n",
       "  <thead>\n",
       "    <tr style=\"text-align: right;\">\n",
       "      <th></th>\n",
       "      <th>MAE</th>\n",
       "      <th>MSE</th>\n",
       "      <th>RMSE</th>\n",
       "      <th>MAPE</th>\n",
       "    </tr>\n",
       "  </thead>\n",
       "  <tbody>\n",
       "    <tr>\n",
       "      <th>TES(0.1,0.1,0.5)</th>\n",
       "      <td>142.057188</td>\n",
       "      <td>30533.217899</td>\n",
       "      <td>174.737569</td>\n",
       "      <td>0.249315</td>\n",
       "    </tr>\n",
       "  </tbody>\n",
       "</table>\n",
       "</div>"
      ],
      "text/plain": [
       "                         MAE           MSE        RMSE      MAPE\n",
       "TES(0.1,0.1,0.5)  142.057188  30533.217899  174.737569  0.249315"
      ]
     },
     "execution_count": 160,
     "metadata": {},
     "output_type": "execute_result"
    }
   ],
   "source": [
    "tes2_res = eval_model(test,fcast_tes2,'TES(0.1,0.1,0.5)')\n",
    "tes2_res"
   ]
  },
  {
   "cell_type": "markdown",
   "id": "e1334c3c",
   "metadata": {},
   "source": [
    "#### ARIMA(2,0,1)"
   ]
  },
  {
   "cell_type": "code",
   "execution_count": 181,
   "id": "2289c927",
   "metadata": {},
   "outputs": [
    {
     "name": "stdout",
     "output_type": "stream",
     "text": [
      "2017-01-01    949.547393\n",
      "2017-02-01    873.594995\n",
      "2017-03-01    841.081849\n",
      "2017-04-01    830.601802\n",
      "2017-05-01    826.747997\n",
      "2017-06-01    825.384695\n",
      "2017-07-01    824.893353\n",
      "2017-08-01    824.717254\n",
      "2017-09-01    824.653973\n",
      "2017-10-01    824.631251\n",
      "2017-11-01    824.623090\n",
      "2017-12-01    824.620158\n",
      "Freq: MS, Name: predicted_mean, dtype: float64\n"
     ]
    },
    {
     "data": {
      "image/png": "[encoded data removed]",
      "text/plain": [
       "<Figure size 640x480 with 1 Axes>"
      ]
     },
     "metadata": {},
     "output_type": "display_data"
    }
   ],
   "source": [
    "arima_m1 = arima_fun(2,1,1,'ARIMA(2,1,1)')"
   ]
  },
  {
   "cell_type": "code",
   "execution_count": null,
   "id": "a588aa8c",
   "metadata": {},
   "outputs": [],
   "source": []
  },
  {
   "cell_type": "markdown",
   "id": "0874a0ae",
   "metadata": {},
   "source": [
    "#### Custom ARIMA"
   ]
  },
  {
   "cell_type": "code",
   "execution_count": 176,
   "id": "28927f08",
   "metadata": {},
   "outputs": [
    {
     "name": "stderr",
     "output_type": "stream",
     "text": [
      "C:\\Users\\Dell\\anaconda3\\lib\\site-packages\\statsmodels\\tsa\\statespace\\sarimax.py:978: UserWarning: Non-invertible starting MA parameters found. Using zeros as starting parameters.\n",
      "  warn('Non-invertible starting MA parameters found.'\n",
      "C:\\Users\\Dell\\anaconda3\\lib\\site-packages\\statsmodels\\tsa\\statespace\\sarimax.py:978: UserWarning: Non-invertible starting MA parameters found. Using zeros as starting parameters.\n",
      "  warn('Non-invertible starting MA parameters found.'\n",
      "C:\\Users\\Dell\\anaconda3\\lib\\site-packages\\statsmodels\\base\\model.py:604: ConvergenceWarning: Maximum Likelihood optimization failed to converge. Check mle_retvals\n",
      "  warnings.warn(\"Maximum Likelihood optimization failed to \"\n",
      "C:\\Users\\Dell\\anaconda3\\lib\\site-packages\\statsmodels\\tsa\\statespace\\sarimax.py:966: UserWarning: Non-stationary starting autoregressive parameters found. Using zeros as starting parameters.\n",
      "  warn('Non-stationary starting autoregressive parameters'\n",
      "C:\\Users\\Dell\\anaconda3\\lib\\site-packages\\statsmodels\\tsa\\statespace\\sarimax.py:978: UserWarning: Non-invertible starting MA parameters found. Using zeros as starting parameters.\n",
      "  warn('Non-invertible starting MA parameters found.'\n",
      "C:\\Users\\Dell\\anaconda3\\lib\\site-packages\\statsmodels\\base\\model.py:604: ConvergenceWarning: Maximum Likelihood optimization failed to converge. Check mle_retvals\n",
      "  warnings.warn(\"Maximum Likelihood optimization failed to \"\n",
      "C:\\Users\\Dell\\anaconda3\\lib\\site-packages\\statsmodels\\tsa\\statespace\\sarimax.py:978: UserWarning: Non-invertible starting MA parameters found. Using zeros as starting parameters.\n",
      "  warn('Non-invertible starting MA parameters found.'\n",
      "C:\\Users\\Dell\\anaconda3\\lib\\site-packages\\statsmodels\\base\\model.py:604: ConvergenceWarning: Maximum Likelihood optimization failed to converge. Check mle_retvals\n",
      "  warnings.warn(\"Maximum Likelihood optimization failed to \"\n",
      "C:\\Users\\Dell\\anaconda3\\lib\\site-packages\\statsmodels\\tsa\\statespace\\sarimax.py:978: UserWarning: Non-invertible starting MA parameters found. Using zeros as starting parameters.\n",
      "  warn('Non-invertible starting MA parameters found.'\n",
      "C:\\Users\\Dell\\anaconda3\\lib\\site-packages\\statsmodels\\base\\model.py:604: ConvergenceWarning: Maximum Likelihood optimization failed to converge. Check mle_retvals\n",
      "  warnings.warn(\"Maximum Likelihood optimization failed to \"\n",
      "C:\\Users\\Dell\\anaconda3\\lib\\site-packages\\statsmodels\\tsa\\statespace\\sarimax.py:978: UserWarning: Non-invertible starting MA parameters found. Using zeros as starting parameters.\n",
      "  warn('Non-invertible starting MA parameters found.'\n",
      "C:\\Users\\Dell\\anaconda3\\lib\\site-packages\\statsmodels\\base\\model.py:604: ConvergenceWarning: Maximum Likelihood optimization failed to converge. Check mle_retvals\n",
      "  warnings.warn(\"Maximum Likelihood optimization failed to \"\n",
      "C:\\Users\\Dell\\anaconda3\\lib\\site-packages\\statsmodels\\tsa\\statespace\\sarimax.py:978: UserWarning: Non-invertible starting MA parameters found. Using zeros as starting parameters.\n",
      "  warn('Non-invertible starting MA parameters found.'\n",
      "C:\\Users\\Dell\\anaconda3\\lib\\site-packages\\statsmodels\\base\\model.py:604: ConvergenceWarning: Maximum Likelihood optimization failed to converge. Check mle_retvals\n",
      "  warnings.warn(\"Maximum Likelihood optimization failed to \"\n",
      "C:\\Users\\Dell\\anaconda3\\lib\\site-packages\\statsmodels\\base\\model.py:604: ConvergenceWarning: Maximum Likelihood optimization failed to converge. Check mle_retvals\n",
      "  warnings.warn(\"Maximum Likelihood optimization failed to \"\n",
      "C:\\Users\\Dell\\anaconda3\\lib\\site-packages\\statsmodels\\tsa\\statespace\\sarimax.py:966: UserWarning: Non-stationary starting autoregressive parameters found. Using zeros as starting parameters.\n",
      "  warn('Non-stationary starting autoregressive parameters'\n",
      "C:\\Users\\Dell\\anaconda3\\lib\\site-packages\\statsmodels\\tsa\\statespace\\sarimax.py:978: UserWarning: Non-invertible starting MA parameters found. Using zeros as starting parameters.\n",
      "  warn('Non-invertible starting MA parameters found.'\n",
      "C:\\Users\\Dell\\anaconda3\\lib\\site-packages\\statsmodels\\base\\model.py:604: ConvergenceWarning: Maximum Likelihood optimization failed to converge. Check mle_retvals\n",
      "  warnings.warn(\"Maximum Likelihood optimization failed to \"\n",
      "C:\\Users\\Dell\\anaconda3\\lib\\site-packages\\statsmodels\\tsa\\statespace\\sarimax.py:966: UserWarning: Non-stationary starting autoregressive parameters found. Using zeros as starting parameters.\n",
      "  warn('Non-stationary starting autoregressive parameters'\n",
      "C:\\Users\\Dell\\anaconda3\\lib\\site-packages\\statsmodels\\tsa\\statespace\\sarimax.py:978: UserWarning: Non-invertible starting MA parameters found. Using zeros as starting parameters.\n",
      "  warn('Non-invertible starting MA parameters found.'\n",
      "C:\\Users\\Dell\\anaconda3\\lib\\site-packages\\statsmodels\\base\\model.py:604: ConvergenceWarning: Maximum Likelihood optimization failed to converge. Check mle_retvals\n",
      "  warnings.warn(\"Maximum Likelihood optimization failed to \"\n",
      "C:\\Users\\Dell\\anaconda3\\lib\\site-packages\\statsmodels\\tsa\\statespace\\sarimax.py:978: UserWarning: Non-invertible starting MA parameters found. Using zeros as starting parameters.\n",
      "  warn('Non-invertible starting MA parameters found.'\n",
      "C:\\Users\\Dell\\anaconda3\\lib\\site-packages\\statsmodels\\base\\model.py:604: ConvergenceWarning: Maximum Likelihood optimization failed to converge. Check mle_retvals\n",
      "  warnings.warn(\"Maximum Likelihood optimization failed to \"\n"
     ]
    }
   ],
   "source": [
    "p = list(range(0,5)) # 0,1,2...,13\n",
    "q = list(range(0,5)) # 0,1,2...,13\n",
    "d = list(range(0,1))  # 0\n",
    "\n",
    "pdq = []\n",
    "mse_res = []\n",
    "for i in p:\n",
    "    for j in d:\n",
    "        for k in q:\n",
    "            m = ARIMA(train,order=(i,j,k))\n",
    "            arima = m.fit()\n",
    "            ypred = arima.forecast(test.shape[0])\n",
    "            mse = mean_squared_error(test,ypred)\n",
    "            pdq.append((i,j,k))\n",
    "            mse_res.append(mse)"
   ]
  },
  {
   "cell_type": "code",
   "execution_count": 178,
   "id": "2b8760e8",
   "metadata": {},
   "outputs": [
    {
     "name": "stdout",
     "output_type": "stream",
     "text": [
      "27339.808543699797\n",
      "24\n",
      "(4, 0, 4)\n"
     ]
    }
   ],
   "source": [
    "# print(pdq)\n",
    "# print(rmse_res)\n",
    "\n",
    "min_mse = min(mse_res)\n",
    "print(min_mse)\n",
    "min_mse_idx = mse_res.index(min_mse)\n",
    "print(min_mse_idx)\n",
    "print(pdq[24])"
   ]
  },
  {
   "cell_type": "code",
   "execution_count": 180,
   "id": "6ae655b9",
   "metadata": {},
   "outputs": [
    {
     "name": "stderr",
     "output_type": "stream",
     "text": [
      "C:\\Users\\Dell\\anaconda3\\lib\\site-packages\\statsmodels\\base\\model.py:604: ConvergenceWarning: Maximum Likelihood optimization failed to converge. Check mle_retvals\n",
      "  warnings.warn(\"Maximum Likelihood optimization failed to \"\n"
     ]
    },
    {
     "name": "stdout",
     "output_type": "stream",
     "text": [
      "2017-01-01     609.747400\n",
      "2017-02-01     510.456990\n",
      "2017-03-01     678.674396\n",
      "2017-04-01     456.853945\n",
      "2017-05-01     473.181159\n",
      "2017-06-01     751.383917\n",
      "2017-07-01     598.160465\n",
      "2017-08-01     689.695620\n",
      "2017-09-01    1092.313722\n",
      "2017-10-01     828.403235\n",
      "2017-11-01     862.812381\n",
      "2017-12-01    1160.980511\n",
      "Freq: MS, Name: predicted_mean, dtype: float64\n"
     ]
    },
    {
     "data": {
      "image/png": "[encoded data removed]",
      "text/plain": [
       "<Figure size 640x480 with 1 Axes>"
      ]
     },
     "metadata": {},
     "output_type": "display_data"
    }
   ],
   "source": [
    "custom_arima =  arima_fun(4,0,4,'ARIMA(4,0,4)')"
   ]
  },
  {
   "cell_type": "code",
   "execution_count": 183,
   "id": "ebfa913f",
   "metadata": {},
   "outputs": [
    {
     "data": {
      "text/html": [
       "<div>\n",
       "<style scoped>\n",
       "    .dataframe tbody tr th:only-of-type {\n",
       "        vertical-align: middle;\n",
       "    }\n",
       "\n",
       "    .dataframe tbody tr th {\n",
       "        vertical-align: top;\n",
       "    }\n",
       "\n",
       "    .dataframe thead th {\n",
       "        text-align: right;\n",
       "    }\n",
       "</style>\n",
       "<table border=\"1\" class=\"dataframe\">\n",
       "  <thead>\n",
       "    <tr style=\"text-align: right;\">\n",
       "      <th></th>\n",
       "      <th>MAE</th>\n",
       "      <th>MSE</th>\n",
       "      <th>RMSE</th>\n",
       "      <th>MAPE</th>\n",
       "    </tr>\n",
       "  </thead>\n",
       "  <tbody>\n",
       "    <tr>\n",
       "      <th>TES(0.2,0.5,0.4)</th>\n",
       "      <td>145.781859</td>\n",
       "      <td>36275.881645</td>\n",
       "      <td>190.462284</td>\n",
       "      <td>0.264769</td>\n",
       "    </tr>\n",
       "    <tr>\n",
       "      <th>TES(0.1,0.1,0.5)</th>\n",
       "      <td>142.057188</td>\n",
       "      <td>30533.217899</td>\n",
       "      <td>174.737569</td>\n",
       "      <td>0.249315</td>\n",
       "    </tr>\n",
       "    <tr>\n",
       "      <th>ARIMA(2,1,1)</th>\n",
       "      <td>278.048969</td>\n",
       "      <td>107380.417407</td>\n",
       "      <td>327.689514</td>\n",
       "      <td>0.434863</td>\n",
       "    </tr>\n",
       "    <tr>\n",
       "      <th>ARIMA(4,0,4)</th>\n",
       "      <td>127.160299</td>\n",
       "      <td>28150.954452</td>\n",
       "      <td>167.782462</td>\n",
       "      <td>0.168735</td>\n",
       "    </tr>\n",
       "  </tbody>\n",
       "</table>\n",
       "</div>"
      ],
      "text/plain": [
       "                         MAE            MSE        RMSE      MAPE\n",
       "TES(0.2,0.5,0.4)  145.781859   36275.881645  190.462284  0.264769\n",
       "TES(0.1,0.1,0.5)  142.057188   30533.217899  174.737569  0.249315\n",
       "ARIMA(2,1,1)      278.048969  107380.417407  327.689514  0.434863\n",
       "ARIMA(4,0,4)      127.160299   28150.954452  167.782462  0.168735"
      ]
     },
     "execution_count": 183,
     "metadata": {},
     "output_type": "execute_result"
    }
   ],
   "source": [
    "res = pd.concat([tes1_res,tes2_res,arima_m1,custom_arima])\n",
    "res"
   ]
  },
  {
   "cell_type": "code",
   "execution_count": null,
   "id": "afeccc92",
   "metadata": {},
   "outputs": [],
   "source": []
  }
 ],
 "metadata": {
  "kernelspec": {
   "display_name": "Python 3 (ipykernel)",
   "language": "python",
   "name": "python3"
  },
  "language_info": {
   "codemirror_mode": {
    "name": "ipython",
    "version": 3
   },
   "file_extension": ".py",
   "mimetype": "text/x-python",
   "name": "python",
   "nbconvert_exporter": "python",
   "pygments_lexer": "ipython3",
   "version": "3.9.13"
  }
 },
 "nbformat": 4,
 "nbformat_minor": 5
}
